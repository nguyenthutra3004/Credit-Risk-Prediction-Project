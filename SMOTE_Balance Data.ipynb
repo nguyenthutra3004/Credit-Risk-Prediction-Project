{
 "cells": [
  {
   "cell_type": "code",
   "execution_count": null,
   "metadata": {
    "id": "moDUOlrz1OCL"
   },
   "outputs": [],
   "source": [
    "import pandas as pd"
   ]
  },
  {
   "cell_type": "code",
   "execution_count": null,
   "metadata": {
    "id": "FDNfnooA241K"
   },
   "outputs": [],
   "source": [
    "dataset = pd.read_csv('dataset_output.csv')"
   ]
  },
  {
   "cell_type": "code",
   "execution_count": null,
   "metadata": {
    "colab": {
     "base_uri": "https://localhost:8080/"
    },
    "id": "mJvWMDvv3C4Y",
    "outputId": "10437264-c078-4e88-9351-7810972729bf"
   },
   "outputs": [
    {
     "data": {
      "text/plain": [
       "(91782, 1469)"
      ]
     },
     "execution_count": 5,
     "metadata": {},
     "output_type": "execute_result"
    }
   ],
   "source": [
    "dataset.shape"
   ]
  },
  {
   "cell_type": "code",
   "execution_count": null,
   "metadata": {
    "colab": {
     "base_uri": "https://localhost:8080/",
     "height": 256
    },
    "id": "jdz5KmfY3OVQ",
    "outputId": "37799f25-e649-40e4-8512-7fd8ced27666"
   },
   "outputs": [
    {
     "data": {
      "application/vnd.google.colaboratory.intrinsic+json": {
       "type": "dataframe"
      },
      "text/html": [
       "\n",
       "  <div id=\"df-ad8029b6-08c1-4ef2-9b65-7f0508e237fc\" class=\"colab-df-container\">\n",
       "    <div>\n",
       "<style scoped>\n",
       "    .dataframe tbody tr th:only-of-type {\n",
       "        vertical-align: middle;\n",
       "    }\n",
       "\n",
       "    .dataframe tbody tr th {\n",
       "        vertical-align: top;\n",
       "    }\n",
       "\n",
       "    .dataframe thead th {\n",
       "        text-align: right;\n",
       "    }\n",
       "</style>\n",
       "<table border=\"1\" class=\"dataframe\">\n",
       "  <thead>\n",
       "    <tr style=\"text-align: right;\">\n",
       "      <th></th>\n",
       "      <th>customer_ID</th>\n",
       "      <th>P_2_Ave_6</th>\n",
       "      <th>P_2_Min_6</th>\n",
       "      <th>P_2_Max_6</th>\n",
       "      <th>P_2_Ave_12</th>\n",
       "      <th>P_2_Min_12</th>\n",
       "      <th>P_2_Max_12</th>\n",
       "      <th>D_39_Ave_6</th>\n",
       "      <th>D_39_Min_6</th>\n",
       "      <th>D_39_Max_6</th>\n",
       "      <th>...</th>\n",
       "      <th>D_137</th>\n",
       "      <th>D_138</th>\n",
       "      <th>D_139</th>\n",
       "      <th>D_140</th>\n",
       "      <th>D_141</th>\n",
       "      <th>D_142</th>\n",
       "      <th>D_143</th>\n",
       "      <th>D_144</th>\n",
       "      <th>D_145</th>\n",
       "      <th>months_of_data</th>\n",
       "    </tr>\n",
       "  </thead>\n",
       "  <tbody>\n",
       "    <tr>\n",
       "      <th>91777</th>\n",
       "      <td>fb1c800a74828eba6431ebaf63fdee04f068d1508c79ab...</td>\n",
       "      <td>0.611574</td>\n",
       "      <td>0.567507</td>\n",
       "      <td>0.710410</td>\n",
       "      <td>0.304045</td>\n",
       "      <td>0.203019</td>\n",
       "      <td>0.367251</td>\n",
       "      <td>0.003979</td>\n",
       "      <td>0.002519</td>\n",
       "      <td>0.005824</td>\n",
       "      <td>...</td>\n",
       "      <td>NaN</td>\n",
       "      <td>NaN</td>\n",
       "      <td>0.003069</td>\n",
       "      <td>0.000916</td>\n",
       "      <td>0.009173</td>\n",
       "      <td>NaN</td>\n",
       "      <td>0.003071</td>\n",
       "      <td>0.007909</td>\n",
       "      <td>0.008699</td>\n",
       "      <td>13.0</td>\n",
       "    </tr>\n",
       "    <tr>\n",
       "      <th>91778</th>\n",
       "      <td>66d3fc4fe4593996fdc5791295a2217fec1f54270f838c...</td>\n",
       "      <td>0.310654</td>\n",
       "      <td>0.261535</td>\n",
       "      <td>0.449123</td>\n",
       "      <td>0.910926</td>\n",
       "      <td>0.871052</td>\n",
       "      <td>0.928140</td>\n",
       "      <td>0.004730</td>\n",
       "      <td>0.001574</td>\n",
       "      <td>0.006894</td>\n",
       "      <td>...</td>\n",
       "      <td>NaN</td>\n",
       "      <td>NaN</td>\n",
       "      <td>1.001755</td>\n",
       "      <td>0.005416</td>\n",
       "      <td>0.858056</td>\n",
       "      <td>0.012321</td>\n",
       "      <td>1.007006</td>\n",
       "      <td>0.002519</td>\n",
       "      <td>0.095377</td>\n",
       "      <td>13.0</td>\n",
       "    </tr>\n",
       "    <tr>\n",
       "      <th>91779</th>\n",
       "      <td>9f45276d7e50097fa272250545ddf98272c5031f5ef131...</td>\n",
       "      <td>0.901136</td>\n",
       "      <td>0.883907</td>\n",
       "      <td>0.914022</td>\n",
       "      <td>0.120808</td>\n",
       "      <td>-0.041712</td>\n",
       "      <td>0.225689</td>\n",
       "      <td>0.171976</td>\n",
       "      <td>0.002466</td>\n",
       "      <td>0.566619</td>\n",
       "      <td>...</td>\n",
       "      <td>NaN</td>\n",
       "      <td>NaN</td>\n",
       "      <td>0.009421</td>\n",
       "      <td>0.001896</td>\n",
       "      <td>0.005171</td>\n",
       "      <td>NaN</td>\n",
       "      <td>0.003437</td>\n",
       "      <td>0.001484</td>\n",
       "      <td>0.004568</td>\n",
       "      <td>13.0</td>\n",
       "    </tr>\n",
       "    <tr>\n",
       "      <th>91780</th>\n",
       "      <td>062ea289d96896b2d0b23f77b7c22d1764c40b7a4ae0c4...</td>\n",
       "      <td>0.497986</td>\n",
       "      <td>0.332845</td>\n",
       "      <td>0.622056</td>\n",
       "      <td>0.920031</td>\n",
       "      <td>0.907405</td>\n",
       "      <td>0.930120</td>\n",
       "      <td>0.187727</td>\n",
       "      <td>0.000028</td>\n",
       "      <td>0.391132</td>\n",
       "      <td>...</td>\n",
       "      <td>NaN</td>\n",
       "      <td>NaN</td>\n",
       "      <td>0.005817</td>\n",
       "      <td>0.005515</td>\n",
       "      <td>0.009270</td>\n",
       "      <td>NaN</td>\n",
       "      <td>0.005973</td>\n",
       "      <td>0.006140</td>\n",
       "      <td>0.008742</td>\n",
       "      <td>3.0</td>\n",
       "    </tr>\n",
       "    <tr>\n",
       "      <th>91781</th>\n",
       "      <td>314708335a3dd5faa2656f9e88bce41ed4f95263d8d30a...</td>\n",
       "      <td>0.614203</td>\n",
       "      <td>0.581069</td>\n",
       "      <td>0.624880</td>\n",
       "      <td>0.981046</td>\n",
       "      <td>0.957823</td>\n",
       "      <td>1.001323</td>\n",
       "      <td>0.162325</td>\n",
       "      <td>0.000474</td>\n",
       "      <td>0.415258</td>\n",
       "      <td>...</td>\n",
       "      <td>NaN</td>\n",
       "      <td>NaN</td>\n",
       "      <td>0.006574</td>\n",
       "      <td>0.003428</td>\n",
       "      <td>0.002802</td>\n",
       "      <td>NaN</td>\n",
       "      <td>0.008710</td>\n",
       "      <td>0.008416</td>\n",
       "      <td>0.003380</td>\n",
       "      <td>13.0</td>\n",
       "    </tr>\n",
       "  </tbody>\n",
       "</table>\n",
       "<p>5 rows × 1469 columns</p>\n",
       "</div>\n",
       "    <div class=\"colab-df-buttons\">\n",
       "\n",
       "  <div class=\"colab-df-container\">\n",
       "    <button class=\"colab-df-convert\" onclick=\"convertToInteractive('df-ad8029b6-08c1-4ef2-9b65-7f0508e237fc')\"\n",
       "            title=\"Convert this dataframe to an interactive table.\"\n",
       "            style=\"display:none;\">\n",
       "\n",
       "  <svg xmlns=\"http://www.w3.org/2000/svg\" height=\"24px\" viewBox=\"0 -960 960 960\">\n",
       "    <path d=\"M120-120v-720h720v720H120Zm60-500h600v-160H180v160Zm220 220h160v-160H400v160Zm0 220h160v-160H400v160ZM180-400h160v-160H180v160Zm440 0h160v-160H620v160ZM180-180h160v-160H180v160Zm440 0h160v-160H620v160Z\"/>\n",
       "  </svg>\n",
       "    </button>\n",
       "\n",
       "  <style>\n",
       "    .colab-df-container {\n",
       "      display:flex;\n",
       "      gap: 12px;\n",
       "    }\n",
       "\n",
       "    .colab-df-convert {\n",
       "      background-color: #E8F0FE;\n",
       "      border: none;\n",
       "      border-radius: 50%;\n",
       "      cursor: pointer;\n",
       "      display: none;\n",
       "      fill: #1967D2;\n",
       "      height: 32px;\n",
       "      padding: 0 0 0 0;\n",
       "      width: 32px;\n",
       "    }\n",
       "\n",
       "    .colab-df-convert:hover {\n",
       "      background-color: #E2EBFA;\n",
       "      box-shadow: 0px 1px 2px rgba(60, 64, 67, 0.3), 0px 1px 3px 1px rgba(60, 64, 67, 0.15);\n",
       "      fill: #174EA6;\n",
       "    }\n",
       "\n",
       "    .colab-df-buttons div {\n",
       "      margin-bottom: 4px;\n",
       "    }\n",
       "\n",
       "    [theme=dark] .colab-df-convert {\n",
       "      background-color: #3B4455;\n",
       "      fill: #D2E3FC;\n",
       "    }\n",
       "\n",
       "    [theme=dark] .colab-df-convert:hover {\n",
       "      background-color: #434B5C;\n",
       "      box-shadow: 0px 1px 3px 1px rgba(0, 0, 0, 0.15);\n",
       "      filter: drop-shadow(0px 1px 2px rgba(0, 0, 0, 0.3));\n",
       "      fill: #FFFFFF;\n",
       "    }\n",
       "  </style>\n",
       "\n",
       "    <script>\n",
       "      const buttonEl =\n",
       "        document.querySelector('#df-ad8029b6-08c1-4ef2-9b65-7f0508e237fc button.colab-df-convert');\n",
       "      buttonEl.style.display =\n",
       "        google.colab.kernel.accessAllowed ? 'block' : 'none';\n",
       "\n",
       "      async function convertToInteractive(key) {\n",
       "        const element = document.querySelector('#df-ad8029b6-08c1-4ef2-9b65-7f0508e237fc');\n",
       "        const dataTable =\n",
       "          await google.colab.kernel.invokeFunction('convertToInteractive',\n",
       "                                                    [key], {});\n",
       "        if (!dataTable) return;\n",
       "\n",
       "        const docLinkHtml = 'Like what you see? Visit the ' +\n",
       "          '<a target=\"_blank\" href=https://colab.research.google.com/notebooks/data_table.ipynb>data table notebook</a>'\n",
       "          + ' to learn more about interactive tables.';\n",
       "        element.innerHTML = '';\n",
       "        dataTable['output_type'] = 'display_data';\n",
       "        await google.colab.output.renderOutput(dataTable, element);\n",
       "        const docLink = document.createElement('div');\n",
       "        docLink.innerHTML = docLinkHtml;\n",
       "        element.appendChild(docLink);\n",
       "      }\n",
       "    </script>\n",
       "  </div>\n",
       "\n",
       "\n",
       "<div id=\"df-156e9320-67eb-4b24-81b9-ebc003916494\">\n",
       "  <button class=\"colab-df-quickchart\" onclick=\"quickchart('df-156e9320-67eb-4b24-81b9-ebc003916494')\"\n",
       "            title=\"Suggest charts\"\n",
       "            style=\"display:none;\">\n",
       "\n",
       "<svg xmlns=\"http://www.w3.org/2000/svg\" height=\"24px\"viewBox=\"0 0 24 24\"\n",
       "     width=\"24px\">\n",
       "    <g>\n",
       "        <path d=\"M19 3H5c-1.1 0-2 .9-2 2v14c0 1.1.9 2 2 2h14c1.1 0 2-.9 2-2V5c0-1.1-.9-2-2-2zM9 17H7v-7h2v7zm4 0h-2V7h2v10zm4 0h-2v-4h2v4z\"/>\n",
       "    </g>\n",
       "</svg>\n",
       "  </button>\n",
       "\n",
       "<style>\n",
       "  .colab-df-quickchart {\n",
       "      --bg-color: #E8F0FE;\n",
       "      --fill-color: #1967D2;\n",
       "      --hover-bg-color: #E2EBFA;\n",
       "      --hover-fill-color: #174EA6;\n",
       "      --disabled-fill-color: #AAA;\n",
       "      --disabled-bg-color: #DDD;\n",
       "  }\n",
       "\n",
       "  [theme=dark] .colab-df-quickchart {\n",
       "      --bg-color: #3B4455;\n",
       "      --fill-color: #D2E3FC;\n",
       "      --hover-bg-color: #434B5C;\n",
       "      --hover-fill-color: #FFFFFF;\n",
       "      --disabled-bg-color: #3B4455;\n",
       "      --disabled-fill-color: #666;\n",
       "  }\n",
       "\n",
       "  .colab-df-quickchart {\n",
       "    background-color: var(--bg-color);\n",
       "    border: none;\n",
       "    border-radius: 50%;\n",
       "    cursor: pointer;\n",
       "    display: none;\n",
       "    fill: var(--fill-color);\n",
       "    height: 32px;\n",
       "    padding: 0;\n",
       "    width: 32px;\n",
       "  }\n",
       "\n",
       "  .colab-df-quickchart:hover {\n",
       "    background-color: var(--hover-bg-color);\n",
       "    box-shadow: 0 1px 2px rgba(60, 64, 67, 0.3), 0 1px 3px 1px rgba(60, 64, 67, 0.15);\n",
       "    fill: var(--button-hover-fill-color);\n",
       "  }\n",
       "\n",
       "  .colab-df-quickchart-complete:disabled,\n",
       "  .colab-df-quickchart-complete:disabled:hover {\n",
       "    background-color: var(--disabled-bg-color);\n",
       "    fill: var(--disabled-fill-color);\n",
       "    box-shadow: none;\n",
       "  }\n",
       "\n",
       "  .colab-df-spinner {\n",
       "    border: 2px solid var(--fill-color);\n",
       "    border-color: transparent;\n",
       "    border-bottom-color: var(--fill-color);\n",
       "    animation:\n",
       "      spin 1s steps(1) infinite;\n",
       "  }\n",
       "\n",
       "  @keyframes spin {\n",
       "    0% {\n",
       "      border-color: transparent;\n",
       "      border-bottom-color: var(--fill-color);\n",
       "      border-left-color: var(--fill-color);\n",
       "    }\n",
       "    20% {\n",
       "      border-color: transparent;\n",
       "      border-left-color: var(--fill-color);\n",
       "      border-top-color: var(--fill-color);\n",
       "    }\n",
       "    30% {\n",
       "      border-color: transparent;\n",
       "      border-left-color: var(--fill-color);\n",
       "      border-top-color: var(--fill-color);\n",
       "      border-right-color: var(--fill-color);\n",
       "    }\n",
       "    40% {\n",
       "      border-color: transparent;\n",
       "      border-right-color: var(--fill-color);\n",
       "      border-top-color: var(--fill-color);\n",
       "    }\n",
       "    60% {\n",
       "      border-color: transparent;\n",
       "      border-right-color: var(--fill-color);\n",
       "    }\n",
       "    80% {\n",
       "      border-color: transparent;\n",
       "      border-right-color: var(--fill-color);\n",
       "      border-bottom-color: var(--fill-color);\n",
       "    }\n",
       "    90% {\n",
       "      border-color: transparent;\n",
       "      border-bottom-color: var(--fill-color);\n",
       "    }\n",
       "  }\n",
       "</style>\n",
       "\n",
       "  <script>\n",
       "    async function quickchart(key) {\n",
       "      const quickchartButtonEl =\n",
       "        document.querySelector('#' + key + ' button');\n",
       "      quickchartButtonEl.disabled = true;  // To prevent multiple clicks.\n",
       "      quickchartButtonEl.classList.add('colab-df-spinner');\n",
       "      try {\n",
       "        const charts = await google.colab.kernel.invokeFunction(\n",
       "            'suggestCharts', [key], {});\n",
       "      } catch (error) {\n",
       "        console.error('Error during call to suggestCharts:', error);\n",
       "      }\n",
       "      quickchartButtonEl.classList.remove('colab-df-spinner');\n",
       "      quickchartButtonEl.classList.add('colab-df-quickchart-complete');\n",
       "    }\n",
       "    (() => {\n",
       "      let quickchartButtonEl =\n",
       "        document.querySelector('#df-156e9320-67eb-4b24-81b9-ebc003916494 button');\n",
       "      quickchartButtonEl.style.display =\n",
       "        google.colab.kernel.accessAllowed ? 'block' : 'none';\n",
       "    })();\n",
       "  </script>\n",
       "</div>\n",
       "\n",
       "    </div>\n",
       "  </div>\n"
      ],
      "text/plain": [
       "                                             customer_ID  P_2_Ave_6  \\\n",
       "91777  fb1c800a74828eba6431ebaf63fdee04f068d1508c79ab...   0.611574   \n",
       "91778  66d3fc4fe4593996fdc5791295a2217fec1f54270f838c...   0.310654   \n",
       "91779  9f45276d7e50097fa272250545ddf98272c5031f5ef131...   0.901136   \n",
       "91780  062ea289d96896b2d0b23f77b7c22d1764c40b7a4ae0c4...   0.497986   \n",
       "91781  314708335a3dd5faa2656f9e88bce41ed4f95263d8d30a...   0.614203   \n",
       "\n",
       "       P_2_Min_6  P_2_Max_6  P_2_Ave_12  P_2_Min_12  P_2_Max_12  D_39_Ave_6  \\\n",
       "91777   0.567507   0.710410    0.304045    0.203019    0.367251    0.003979   \n",
       "91778   0.261535   0.449123    0.910926    0.871052    0.928140    0.004730   \n",
       "91779   0.883907   0.914022    0.120808   -0.041712    0.225689    0.171976   \n",
       "91780   0.332845   0.622056    0.920031    0.907405    0.930120    0.187727   \n",
       "91781   0.581069   0.624880    0.981046    0.957823    1.001323    0.162325   \n",
       "\n",
       "       D_39_Min_6  D_39_Max_6  ...  D_137  D_138     D_139     D_140  \\\n",
       "91777    0.002519    0.005824  ...    NaN    NaN  0.003069  0.000916   \n",
       "91778    0.001574    0.006894  ...    NaN    NaN  1.001755  0.005416   \n",
       "91779    0.002466    0.566619  ...    NaN    NaN  0.009421  0.001896   \n",
       "91780    0.000028    0.391132  ...    NaN    NaN  0.005817  0.005515   \n",
       "91781    0.000474    0.415258  ...    NaN    NaN  0.006574  0.003428   \n",
       "\n",
       "          D_141     D_142     D_143     D_144     D_145  months_of_data  \n",
       "91777  0.009173       NaN  0.003071  0.007909  0.008699            13.0  \n",
       "91778  0.858056  0.012321  1.007006  0.002519  0.095377            13.0  \n",
       "91779  0.005171       NaN  0.003437  0.001484  0.004568            13.0  \n",
       "91780  0.009270       NaN  0.005973  0.006140  0.008742             3.0  \n",
       "91781  0.002802       NaN  0.008710  0.008416  0.003380            13.0  \n",
       "\n",
       "[5 rows x 1469 columns]"
      ]
     },
     "execution_count": 6,
     "metadata": {},
     "output_type": "execute_result"
    }
   ],
   "source": [
    "dataset.tail(5)"
   ]
  },
  {
   "cell_type": "code",
   "execution_count": null,
   "metadata": {
    "colab": {
     "base_uri": "https://localhost:8080/"
    },
    "id": "5a2NVUtW3VC8",
    "outputId": "e360ecb5-0a6c-45d1-fcf6-b0e6b00fa573"
   },
   "outputs": [
    {
     "data": {
      "text/plain": [
       "Index(['customer_ID', 'P_2_Ave_6', 'P_2_Min_6', 'P_2_Max_6', 'P_2_Ave_12',\n",
       "       'P_2_Min_12', 'P_2_Max_12', 'D_39_Ave_6', 'D_39_Min_6', 'D_39_Max_6',\n",
       "       ...\n",
       "       'D_137', 'D_138', 'D_139', 'D_140', 'D_141', 'D_142', 'D_143', 'D_144',\n",
       "       'D_145', 'months_of_data'],\n",
       "      dtype='object', length=1469)"
      ]
     },
     "execution_count": 7,
     "metadata": {},
     "output_type": "execute_result"
    }
   ],
   "source": [
    "dataset.columns"
   ]
  },
  {
   "cell_type": "code",
   "execution_count": null,
   "metadata": {
    "colab": {
     "base_uri": "https://localhost:8080/",
     "height": 459
    },
    "id": "smldtF8k3ln8",
    "outputId": "fdf1b329-80d3-450d-d45c-87ebcbd70685"
   },
   "outputs": [
    {
     "data": {
      "text/html": [
       "<div>\n",
       "<style scoped>\n",
       "    .dataframe tbody tr th:only-of-type {\n",
       "        vertical-align: middle;\n",
       "    }\n",
       "\n",
       "    .dataframe tbody tr th {\n",
       "        vertical-align: top;\n",
       "    }\n",
       "\n",
       "    .dataframe thead th {\n",
       "        text-align: right;\n",
       "    }\n",
       "</style>\n",
       "<table border=\"1\" class=\"dataframe\">\n",
       "  <thead>\n",
       "    <tr style=\"text-align: right;\">\n",
       "      <th></th>\n",
       "      <th>target</th>\n",
       "    </tr>\n",
       "  </thead>\n",
       "  <tbody>\n",
       "    <tr>\n",
       "      <th>0</th>\n",
       "      <td>1</td>\n",
       "    </tr>\n",
       "    <tr>\n",
       "      <th>1</th>\n",
       "      <td>0</td>\n",
       "    </tr>\n",
       "    <tr>\n",
       "      <th>2</th>\n",
       "      <td>0</td>\n",
       "    </tr>\n",
       "    <tr>\n",
       "      <th>3</th>\n",
       "      <td>1</td>\n",
       "    </tr>\n",
       "    <tr>\n",
       "      <th>4</th>\n",
       "      <td>0</td>\n",
       "    </tr>\n",
       "    <tr>\n",
       "      <th>...</th>\n",
       "      <td>...</td>\n",
       "    </tr>\n",
       "    <tr>\n",
       "      <th>91777</th>\n",
       "      <td>0</td>\n",
       "    </tr>\n",
       "    <tr>\n",
       "      <th>91778</th>\n",
       "      <td>1</td>\n",
       "    </tr>\n",
       "    <tr>\n",
       "      <th>91779</th>\n",
       "      <td>0</td>\n",
       "    </tr>\n",
       "    <tr>\n",
       "      <th>91780</th>\n",
       "      <td>0</td>\n",
       "    </tr>\n",
       "    <tr>\n",
       "      <th>91781</th>\n",
       "      <td>0</td>\n",
       "    </tr>\n",
       "  </tbody>\n",
       "</table>\n",
       "<p>91782 rows × 1 columns</p>\n",
       "</div><br><label><b>dtype:</b> int64</label>"
      ],
      "text/plain": [
       "0        1\n",
       "1        0\n",
       "2        0\n",
       "3        1\n",
       "4        0\n",
       "        ..\n",
       "91777    0\n",
       "91778    1\n",
       "91779    0\n",
       "91780    0\n",
       "91781    0\n",
       "Name: target, Length: 91782, dtype: int64"
      ]
     },
     "execution_count": 8,
     "metadata": {},
     "output_type": "execute_result"
    }
   ],
   "source": [
    "dataset['target']"
   ]
  },
  {
   "cell_type": "code",
   "execution_count": null,
   "metadata": {
    "colab": {
     "base_uri": "https://localhost:8080/",
     "height": 459
    },
    "id": "Ifwg-BLH3qb6",
    "outputId": "a61f5ff3-73b8-43f4-d4d7-2a404504d8be"
   },
   "outputs": [
    {
     "data": {
      "text/html": [
       "<div>\n",
       "<style scoped>\n",
       "    .dataframe tbody tr th:only-of-type {\n",
       "        vertical-align: middle;\n",
       "    }\n",
       "\n",
       "    .dataframe tbody tr th {\n",
       "        vertical-align: top;\n",
       "    }\n",
       "\n",
       "    .dataframe thead th {\n",
       "        text-align: right;\n",
       "    }\n",
       "</style>\n",
       "<table border=\"1\" class=\"dataframe\">\n",
       "  <thead>\n",
       "    <tr style=\"text-align: right;\">\n",
       "      <th></th>\n",
       "      <th>0</th>\n",
       "    </tr>\n",
       "  </thead>\n",
       "  <tbody>\n",
       "    <tr>\n",
       "      <th>customer_ID</th>\n",
       "      <td>0</td>\n",
       "    </tr>\n",
       "    <tr>\n",
       "      <th>P_2_Ave_6</th>\n",
       "      <td>555</td>\n",
       "    </tr>\n",
       "    <tr>\n",
       "      <th>P_2_Min_6</th>\n",
       "      <td>555</td>\n",
       "    </tr>\n",
       "    <tr>\n",
       "      <th>P_2_Max_6</th>\n",
       "      <td>555</td>\n",
       "    </tr>\n",
       "    <tr>\n",
       "      <th>P_2_Ave_12</th>\n",
       "      <td>502</td>\n",
       "    </tr>\n",
       "    <tr>\n",
       "      <th>...</th>\n",
       "      <td>...</td>\n",
       "    </tr>\n",
       "    <tr>\n",
       "      <th>D_142</th>\n",
       "      <td>77547</td>\n",
       "    </tr>\n",
       "    <tr>\n",
       "      <th>D_143</th>\n",
       "      <td>9942</td>\n",
       "    </tr>\n",
       "    <tr>\n",
       "      <th>D_144</th>\n",
       "      <td>6162</td>\n",
       "    </tr>\n",
       "    <tr>\n",
       "      <th>D_145</th>\n",
       "      <td>9942</td>\n",
       "    </tr>\n",
       "    <tr>\n",
       "      <th>months_of_data</th>\n",
       "      <td>0</td>\n",
       "    </tr>\n",
       "  </tbody>\n",
       "</table>\n",
       "<p>1469 rows × 1 columns</p>\n",
       "</div><br><label><b>dtype:</b> int64</label>"
      ],
      "text/plain": [
       "customer_ID           0\n",
       "P_2_Ave_6           555\n",
       "P_2_Min_6           555\n",
       "P_2_Max_6           555\n",
       "P_2_Ave_12          502\n",
       "                  ...  \n",
       "D_142             77547\n",
       "D_143              9942\n",
       "D_144              6162\n",
       "D_145              9942\n",
       "months_of_data        0\n",
       "Length: 1469, dtype: int64"
      ]
     },
     "execution_count": 9,
     "metadata": {},
     "output_type": "execute_result"
    }
   ],
   "source": [
    "dataset.isnull().sum()"
   ]
  },
  {
   "cell_type": "code",
   "execution_count": null,
   "metadata": {
    "id": "ZAtKiCqk8vxc"
   },
   "outputs": [],
   "source": [
    "# Chia dataset thành các cột số và cột chuỗi\n",
    "numeric_cols = dataset.select_dtypes(include=['number']).columns\n",
    "categorical_cols = dataset.select_dtypes(include=['object']).columns\n"
   ]
  },
  {
   "cell_type": "code",
   "execution_count": null,
   "metadata": {
    "id": "ZU-Pxak385Ei"
   },
   "outputs": [],
   "source": [
    "from sklearn.impute import SimpleImputer\n",
    "\n",
    "# Áp dụng SimpleImputer cho các cột số\n",
    "numeric_imputer = SimpleImputer(strategy='mean')\n",
    "dataset[numeric_cols] = numeric_imputer.fit_transform(dataset[numeric_cols])\n"
   ]
  },
  {
   "cell_type": "code",
   "execution_count": null,
   "metadata": {
    "id": "e5TGSwJ787nc"
   },
   "outputs": [],
   "source": [
    "# Áp dụng SimpleImputer cho các cột chuỗi, thay thế NaN bằng giá trị phổ biến nhất\n",
    "categorical_imputer = SimpleImputer(strategy='most_frequent')\n",
    "dataset[categorical_cols] = categorical_imputer.fit_transform(dataset[categorical_cols])\n"
   ]
  },
  {
   "cell_type": "code",
   "execution_count": null,
   "metadata": {
    "colab": {
     "base_uri": "https://localhost:8080/"
    },
    "id": "Eo-I78Ul6D9S",
    "outputId": "af6de23c-5297-4491-ede5-c6f2ae94fa45"
   },
   "outputs": [
    {
     "name": "stdout",
     "output_type": "stream",
     "text": [
      "Requirement already satisfied: scikit-learn in /usr/local/lib/python3.10/dist-packages (1.5.2)\n",
      "Requirement already satisfied: numpy>=1.19.5 in /usr/local/lib/python3.10/dist-packages (from scikit-learn) (1.26.4)\n",
      "Requirement already satisfied: scipy>=1.6.0 in /usr/local/lib/python3.10/dist-packages (from scikit-learn) (1.13.1)\n",
      "Requirement already satisfied: joblib>=1.2.0 in /usr/local/lib/python3.10/dist-packages (from scikit-learn) (1.4.2)\n",
      "Requirement already satisfied: threadpoolctl>=3.1.0 in /usr/local/lib/python3.10/dist-packages (from scikit-learn) (3.5.0)\n"
     ]
    }
   ],
   "source": [
    "!pip install scikit-learn\n"
   ]
  },
  {
   "cell_type": "code",
   "execution_count": null,
   "metadata": {
    "id": "OndhJHP66eTO"
   },
   "outputs": [],
   "source": [
    "from sklearn.model_selection import train_test_split\n"
   ]
  },
  {
   "cell_type": "code",
   "execution_count": null,
   "metadata": {
    "id": "-om38uai5u3b"
   },
   "outputs": [],
   "source": [
    "# Tách dữ liệu thành X (features) và y (target)\n",
    "X = dataset.drop(['customer_ID', 'target'], axis=1)  # Loại bỏ cột không cần thiết\n",
    "y = dataset['target']  # Cột đích (target)\n"
   ]
  },
  {
   "cell_type": "code",
   "execution_count": null,
   "metadata": {
    "id": "pUPZVKm17Rvu"
   },
   "outputs": [],
   "source": [
    "from sklearn.model_selection import train_test_split\n",
    "\n",
    "# Chia dữ liệu thành tập huấn luyện và kiểm tra (70% huấn luyện, 30% kiểm tra)\n",
    "X_train, X_test, y_train, y_test = train_test_split(X, y, test_size=0.3, random_state=42)\n"
   ]
  },
  {
   "cell_type": "code",
   "execution_count": null,
   "metadata": {
    "id": "I5OqZhHH7yyE"
   },
   "outputs": [],
   "source": [
    "# Chuyển cột S_2 từ kiểu chuỗi (ngày tháng) thành kiểu số (số ngày kể từ ngày 1 tháng 1 năm 1970)\n",
    "X_train['S_2'] = pd.to_datetime(X_train['S_2'])\n",
    "X_test['S_2'] = pd.to_datetime(X_test['S_2'])\n",
    "\n",
    "# Tính số ngày kể từ ngày 1 tháng 1 năm 1970\n",
    "X_train['S_2'] = (X_train['S_2'] - pd.Timestamp('1970-01-01')) // pd.Timedelta('1D')\n",
    "X_test['S_2'] = (X_test['S_2'] - pd.Timestamp('1970-01-01')) // pd.Timedelta('1D')\n"
   ]
  },
  {
   "cell_type": "code",
   "execution_count": null,
   "metadata": {
    "id": "L1P8UKgl7Thu"
   },
   "outputs": [],
   "source": [
    "from imblearn.over_sampling import SMOTE\n",
    "\n",
    "# Áp dụng SMOTE cho tập huấn luyện để cân bằng dữ liệu\n",
    "smote = SMOTE(random_state=42)\n",
    "X_train_resampled, y_train_resampled = smote.fit_resample(X_train, y_train)\n"
   ]
  },
  {
   "cell_type": "code",
   "execution_count": null,
   "metadata": {
    "colab": {
     "base_uri": "https://localhost:8080/"
    },
    "id": "3pjiT1vyUZ4m",
    "outputId": "1734ec4b-6512-463b-80af-c6d266aaabf3"
   },
   "outputs": [
    {
     "name": "stdout",
     "output_type": "stream",
     "text": [
      "Đã lưu dữ liệu đã cân bằng vào file 'balanced_data.csv'.\n"
     ]
    }
   ],
   "source": [
    "import pandas as pd\n",
    "\n",
    "# Chuyển đổi X_train_resampled và y_train_resampled thành DataFrame\n",
    "X_train_resampled_df = pd.DataFrame(X_train_resampled, columns=X_train.columns)  # nếu X_train là DataFrame\n",
    "y_train_resampled_df = pd.DataFrame(y_train_resampled, columns=['target'])\n",
    "\n",
    "# Gộp X_train_resampled với y_train_resampled thành một DataFrame\n",
    "resampled_data = pd.concat([X_train_resampled_df, y_train_resampled_df], axis=1)\n",
    "\n",
    "# Lưu vào file CSV\n",
    "resampled_data.to_csv('balanced_data.csv', index=False)\n",
    "\n",
    "print(\"Đã lưu dữ liệu đã cân bằng vào file 'balanced_data.csv'.\")\n"
   ]
  }
 ],
 "metadata": {
  "colab": {
   "provenance": []
  },
  "kernelspec": {
   "display_name": "Python 3",
   "name": "python3"
  },
  "language_info": {
   "name": "python",
   "version": "3.12.2"
  }
 },
 "nbformat": 4,
 "nbformat_minor": 0
}
